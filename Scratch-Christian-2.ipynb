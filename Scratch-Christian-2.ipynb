{
 "cells": [
  {
   "cell_type": "code",
   "execution_count": null,
   "metadata": {
    "collapsed": true
   },
   "outputs": [],
   "source": [
    "import numpy as np\n",
    "import scipy as sp\n",
    "\n",
    "def modulus(fname):\n",
    "    a = np.loadtext(fname,skiprows=1,delimiter=',')\n",
    "    \n",
    "    x = a[:,0]\n",
    "    \n",
    "    y = a[:,1]\n",
    "    \n",
    "    plas = []\n",
    "    \n",
    "    for length in rang(len(a)):\n",
    "        plas.append(length)\n",
    "        if length > 8:\n",
    "            r = sp.stats.linregress(x[0:length],y[0:length])\n",
    "            if r.rvalue <0.999:\n",
    "                break\n",
    "    \n",
    "    stop = int(len(plas))\n",
    "    \n",
    "    xcrop, ycrop = x[0:stop],y[0:stop]\n",
    "    #shortened list of numbers for getting modulus\n",
    "    \n",
    "    xfit, yfit =  np.polfit(xcrop,ycrop,1)\n",
    "    \n",
    "    linfit = np.poly1d((xfit,yfit))\n",
    "    \n",
    "    YoungsMod = -float(np.diff(linfit))\n",
    "    \n",
    "    return YoungsMod\n"
   ]
  }
 ],
 "metadata": {
  "anaconda-cloud": {},
  "kernelspec": {
   "display_name": "Python [default]",
   "language": "python",
   "name": "python3"
  },
  "language_info": {
   "codemirror_mode": {
    "name": "ipython",
    "version": 3
   },
   "file_extension": ".py",
   "mimetype": "text/x-python",
   "name": "python",
   "nbconvert_exporter": "python",
   "pygments_lexer": "ipython3",
   "version": "3.5.2"
  }
 },
 "nbformat": 4,
 "nbformat_minor": 1
}
